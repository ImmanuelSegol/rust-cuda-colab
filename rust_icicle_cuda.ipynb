{
  "nbformat": 4,
  "nbformat_minor": 0,
  "metadata": {
    "colab": {
      "provenance": [],
      "gpuType": "T4"
    },
    "kernelspec": {
      "name": "python3",
      "display_name": "Python 3"
    },
    "language_info": {
      "name": "python"
    },
    "accelerator": "GPU"
  },
  "cells": [
    {
      "cell_type": "markdown",
      "source": [
        "# **How to run rust + cuda code using google colab**\n",
        "\n",
        "Google Colab gives you free access to T4 GPUs that you can use to run your CUDA projects. However, by default, it doesn't support rust or CUDA.\n",
        "\n",
        "Before executing the following cells, ensure you are connected to a T4 instance (Check the top right icon).\n",
        "\n",
        "![T4 icon](https://github.com/gkigiermo/rust_cuda_colab/blob/main/imgs/connectToHost.png)\n",
        "\n",
        "You only need a Google account to proceed. If you are new to Google Colab, you need to press shift + enter to run the code in the cells (the grey cells). When executed correctly a green check is seen at the left and the output is displayed right below the cell.\n",
        "\n",
        "If for any reason the instance loses connection or is not working, you might need to restart it. You can do that from the top menu `Runtime-> Restart runtime`.\n",
        "Think of the instance as a VM, so if you restart it all the changes you did (installing tools or files generated) are erased and you need to execute them again.\n",
        "\n",
        "The cells in this notebook are meant to be executed sequentially to fulfill dependencies. You can choose either to start by running the Rust or CUDA sections independently."
      ],
      "metadata": {
        "id": "T1tYMNpw0hbH"
      }
    },
    {
      "cell_type": "markdown",
      "source": [
        "## **Mounting Google Drive**\n",
        "Google Colab files are not stored unless you have a paid account.\n",
        "To not losing changes, you should mount your Google Drive and work in a directory from there. This will also allow you to modify files locally and sync them with Google Colab easily."
      ],
      "metadata": {
        "id": "K0-UxT3Rs53h"
      }
    },
    {
      "cell_type": "code",
      "execution_count": null,
      "metadata": {
        "id": "I5E48kfHr9-Z"
      },
      "outputs": [],
      "source": [
        "from google.colab import drive\n",
        "drive.mount('/content/drive')"
      ]
    },
    {
      "cell_type": "markdown",
      "source": [
        "The above cell mounts your Google Drive in the ```/content/drive``` directory. You can check that it was mounted correctly by clicking on the folder icon at the left of your screen.\n",
        "\n",
        "So far, It is not possible to mount only one specific directory, so be careful when running commands that might erase data.\n",
        "\n",
        "I have previously created a folder named *workspace* at the root of my Google Drive. For security, I want to perform all the work there.\n",
        "The next cell allows me to change the directory in the same way I would do it in a terminal. I use the `pwd` command to print the path and verify it.\n"
      ],
      "metadata": {
        "id": "nRjThYEPuoWa"
      }
    },
    {
      "cell_type": "code",
      "source": [
        "%cd /content/drive/MyDrive/workspace/\n",
        "%pwd"
      ],
      "metadata": {
        "id": "lm-9FxXFxJ2T"
      },
      "execution_count": null,
      "outputs": []
    },
    {
      "cell_type": "markdown",
      "source": [
        "## **Installing Rust**\n",
        "\n",
        "By default, rust is not included in the VMs of Google Colab so it is necessary to install it. You need to do this step every time you access the Colab or if for any reason you have to restart the runtime. It is annoying, but it takes only about 15s."
      ],
      "metadata": {
        "id": "Uv4UW2J6FvDV"
      }
    },
    {
      "cell_type": "code",
      "source": [
        "!apt install rustc cargo"
      ],
      "metadata": {
        "id": "a0UIb9xOy0j2"
      },
      "execution_count": null,
      "outputs": []
    },
    {
      "cell_type": "markdown",
      "source": [
        "You can check the version of the tools in the VM running the following cell."
      ],
      "metadata": {
        "id": "68nrwywizU4T"
      }
    },
    {
      "cell_type": "code",
      "source": [
        "!rustc --version\n",
        "!cargo --version\n",
        "!nvcc --version\n",
        "!gcc --version\n",
        "!cmake --version"
      ],
      "metadata": {
        "id": "ZSgmprAAy3wD"
      },
      "execution_count": null,
      "outputs": []
    },
    {
      "cell_type": "markdown",
      "source": [
        "## **Cloning icicle and running the tests**\n",
        "\n",
        "You can now proceed to clone the icicle repo. Remember that it will be stored in the workspace folder of your Google Drive. Note that you only need to clone it once, and then just keep it updated. The easiest way to perform the repo operations is to do it locally in your synced directory."
      ],
      "metadata": {
        "id": "WNE7UAah0rH6"
      }
    },
    {
      "cell_type": "code",
      "source": [
        "!git clone https://github.com/ingonyama-zk/icicle.git"
      ],
      "metadata": {
        "id": "NdsG7-ow1fWQ"
      },
      "execution_count": null,
      "outputs": []
    },
    {
      "cell_type": "markdown",
      "source": [
        "Compiling the repo takes around 4 minutes in the T4 instances, so be patient :P"
      ],
      "metadata": {
        "id": "sc9Aqr6s15zH"
      }
    },
    {
      "cell_type": "code",
      "source": [
        "!ls -la\n",
        "%cd icicle/icicle\n",
        "!mkdir -p build\n",
        "!cmake -S . -B build\n",
        "!time cmake --build build"
      ],
      "metadata": {
        "id": "e7F8a6b81h7O"
      },
      "execution_count": null,
      "outputs": []
    },
    {
      "cell_type": "markdown",
      "source": [
        "You might observe some warnings during compilation, but no fatal errors.\n",
        "You can check if the library was compiled correctly by running the tests. This takes around 4m15s in the T4 instances."
      ],
      "metadata": {
        "id": "YWu1aPIy9Cll"
      }
    },
    {
      "cell_type": "code",
      "source": [
        "%cd build\n",
        "!time ctest"
      ],
      "metadata": {
        "id": "pPR106K11tmJ"
      },
      "execution_count": null,
      "outputs": []
    },
    {
      "cell_type": "markdown",
      "source": [
        "All tests should pass.\n",
        "If you arrived here, you are ready to go! Good luck and have fun!"
      ],
      "metadata": {
        "id": "20WXXXNh96FL"
      }
    },
    {
      "cell_type": "markdown",
      "source": [
        "# **Bonus: develop CUDA in google colab**\n",
        "\n",
        "If you are interested in developing CUDA using Google Colab, you need to add a plugin. Note that rust-related cells are not a requirement to run/develop CUDA, so if you want you can just execute the steps from here. However, If you want to save your data you need to mount the Google Drive or copy them manually."
      ],
      "metadata": {
        "id": "4TUkFUUH5Oye"
      }
    },
    {
      "cell_type": "markdown",
      "source": [
        "To change directory to the `/content` folder and verify it worked run:"
      ],
      "metadata": {
        "id": "lSKBGJhzJlQ1"
      }
    },
    {
      "cell_type": "code",
      "source": [
        "%cd /content/\n",
        "%pwd"
      ],
      "metadata": {
        "id": "64F0Gcgq9Tkn"
      },
      "execution_count": null,
      "outputs": []
    },
    {
      "cell_type": "markdown",
      "source": [
        "Install the nvcc4jupyter plugin"
      ],
      "metadata": {
        "id": "LI4CGG9X7NSP"
      }
    },
    {
      "cell_type": "code",
      "source": [
        "!pip install git+https://github.com/andreinechaev/nvcc4jupyter.git"
      ],
      "metadata": {
        "id": "l21e6a3h7Gbd"
      },
      "execution_count": null,
      "outputs": []
    },
    {
      "cell_type": "markdown",
      "source": [
        "Load the nvcc extension"
      ],
      "metadata": {
        "id": "V8fTKclK7Oql"
      }
    },
    {
      "cell_type": "code",
      "source": [
        "%load_ext nvcc_plugin"
      ],
      "metadata": {
        "id": "6duQL5T-7QZr"
      },
      "execution_count": null,
      "outputs": []
    },
    {
      "cell_type": "markdown",
      "source": [
        "Let's test it with a simple code to check the current GPU.\n",
        "Note the mark `%%cu` on top of the code, that means that when you press shift + enter the cell will compile CUDA code and execute it."
      ],
      "metadata": {
        "id": "oF9S1tCF7Vd9"
      }
    },
    {
      "cell_type": "code",
      "source": [
        "%%cu\n",
        "#include <stdio.h>\n",
        "#include <stdlib.h>\n",
        "\n",
        "int main() {\n",
        "    int devId = -1;\n",
        "    cudaGetDevice(&devId);\n",
        "\n",
        "    int numDevs = 0;\n",
        "    cudaGetDeviceCount(&numDevs);\n",
        "\n",
        "    cudaDeviceProp prop;\n",
        "    cudaGetDeviceProperties(&prop, 0);\n",
        "\n",
        "    printf(\"Num devices %d\\n\", numDevs);\n",
        "    printf(\"Device Id: %d\\n\", devId);\n",
        "    printf(\"  Device name: %s\\n\", prop.name);\n",
        "    printf(\"  Compute capability: %d.%d\\n\", prop.major, prop.minor);\n",
        "    printf(\"  Memory available  (GB): %ld\\n\", prop.totalGlobalMem/(1024*1024*1024));\n",
        "    printf(\"  Peak Memory Bandwidth (GB/s): %.2f\\n\\n\",\n",
        "          2.0*prop.memoryClockRate*(prop.memoryBusWidth/8)/1.0e6);\n",
        "\n",
        "    return 0;\n",
        "}"
      ],
      "metadata": {
        "id": "jk_cpdUn7ZDy"
      },
      "execution_count": null,
      "outputs": []
    },
    {
      "cell_type": "markdown",
      "source": [
        "You can also store the file by using the mark `%%cuda` with the `--name` parameter."
      ],
      "metadata": {
        "id": "B1sLX2wp7lW6"
      }
    },
    {
      "cell_type": "code",
      "source": [
        "%%cuda --name test.cu\n",
        "#include <stdio.h>\n",
        "#include <stdlib.h>\n",
        "\n",
        "int main() {\n",
        "    int devId = -1;\n",
        "    cudaGetDevice(&devId);\n",
        "\n",
        "    int numDevs = 0;\n",
        "    cudaGetDeviceCount(&numDevs);\n",
        "\n",
        "    cudaDeviceProp prop;\n",
        "    cudaGetDeviceProperties(&prop, 0);\n",
        "\n",
        "    printf(\"Num devices %d\\n\", numDevs);\n",
        "    printf(\"Device Id: %d\\n\", devId);\n",
        "    printf(\"  Device name: %s\\n\", prop.name);\n",
        "    printf(\"  Compute capability: %d.%d\\n\", prop.major, prop.minor);\n",
        "    printf(\"  Memory available  (GB): %ld\\n\", prop.totalGlobalMem/(1024*1024*1024));\n",
        "    printf(\"  Peak Memory Bandwidth (GB/s): %.2f\\n\\n\",\n",
        "          2.0*prop.memoryClockRate*(prop.memoryBusWidth/8)/1.0e6);\n",
        "\n",
        "    return 0;\n",
        "}"
      ],
      "metadata": {
        "id": "I755A33X7s2h"
      },
      "execution_count": null,
      "outputs": []
    },
    {
      "cell_type": "markdown",
      "source": [
        "The file will be stored in a src folder created by the plugin. Enter in the directory and check that exists."
      ],
      "metadata": {
        "id": "GI9IcxeY8Mb5"
      }
    },
    {
      "cell_type": "code",
      "source": [
        "%cd src/\n",
        "%ls"
      ],
      "metadata": {
        "id": "Z5sgVuCt-gGp"
      },
      "execution_count": null,
      "outputs": []
    },
    {
      "cell_type": "markdown",
      "source": [
        "You can also compile the file in the same way you would do it in your local terminal."
      ],
      "metadata": {
        "id": "wZuB-bqH-roh"
      }
    },
    {
      "cell_type": "code",
      "source": [
        "!nvcc test.cu -o test"
      ],
      "metadata": {
        "id": "bDfFO2Pm-k0E"
      },
      "execution_count": null,
      "outputs": []
    },
    {
      "cell_type": "markdown",
      "source": [
        "Check that the `test` executable was created, and execute it."
      ],
      "metadata": {
        "id": "TEwD38pm-6-A"
      }
    },
    {
      "cell_type": "code",
      "source": [
        "!./test"
      ],
      "metadata": {
        "id": "Ehh6rdTL-28l"
      },
      "execution_count": null,
      "outputs": []
    },
    {
      "cell_type": "markdown",
      "source": [
        "Finally you can profile the executable using `nvprof`."
      ],
      "metadata": {
        "id": "24Qa400l_Iu_"
      }
    },
    {
      "cell_type": "code",
      "source": [
        "!nvprof ./test"
      ],
      "metadata": {
        "id": "IAEz8wXE_DmE"
      },
      "execution_count": null,
      "outputs": []
    },
    {
      "cell_type": "markdown",
      "source": [
        "Now, you are ready to go! Good luck!"
      ],
      "metadata": {
        "id": "xXlrIHgsKVjG"
      }
    }
  ]
}